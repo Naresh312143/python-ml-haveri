{
  "nbformat": 4,
  "nbformat_minor": 0,
  "metadata": {
    "colab": {
      "provenance": [],
      "collapsed_sections": [
        "KFtohoxjFc2C",
        "wwDZzXG1OXlP",
        "5S_bZzIzOe5c",
        "wkZFf2W7OkvC",
        "N5xxzKLEFvDN",
        "FZF4OPKNNL8B",
        "kMDqM_z_NQFX",
        "LYRRq5NMNWhT",
        "3_OhkopaOE-b",
        "2vcSYf2YOONH",
        "XmxgIxFvF8gV",
        "1aecWMwCNE6c",
        "1KgwPRY5GUgW",
        "fSF-Z7JuGaA5",
        "XTOGATFJOyyF",
        "BK92ZD_uO53s",
        "d8YixQc0PC6j",
        "wKpKX-6pPkC0",
        "Hq6dVAZvPx_r",
        "tvFlF2xAP6v8",
        "PP_dnXQxQJCX",
        "GsgAYVvTQhBx",
        "wkgsG9BDQqOs",
        "x8KKJL4HQtv5",
        "x7bH1D84Qx47",
        "cPc7PKOOQ_V2",
        "557BPATQRDAx",
        "GX_SY_-0Tjb2"
      ]
    },
    "kernelspec": {
      "name": "python3",
      "display_name": "Python 3"
    },
    "language_info": {
      "name": "python"
    }
  },
  "cells": [
    {
      "cell_type": "markdown",
      "source": [
        "# Python + Introduction to Machine Learning"
      ],
      "metadata": {
        "id": "3rbFvgVvEtOj"
      }
    },
    {
      "cell_type": "markdown",
      "source": [
        "### Installation Steps\n",
        "#### Option 1: Anaconda Installation (Recommended)\n",
        "1. **Download Anaconda:**\n",
        "- Go to https://www.anaconda.com/products/distribution\n",
        "- Download Python 3.11+ version for your OS\n",
        "- File size: ~500MB\n",
        "2. **Install Anaconda:**\n",
        "- **Windows:** Run the .exe file as administrator\n",
        "- **Mac:** Open the .pkg file and follow instructions\n",
        "- **Linux:** Run `bash Anaconda3-latest-Linux-x86_64.sh`\n",
        "3. **Verify Installation:**\n",
        "```bash\n",
        "conda --version\n",
        "python --version\n",
        "```\n",
        "#### Option 2: Python + Jupyter Separate Installation\n",
        "1. **Install Python:**\n",
        "- Download from https://python.org (3.11+ recommended)\n",
        "- During installation, check \"Add Python to PATH\"\n",
        "2. **Install Jupyter:**\n",
        "```bash\n",
        "pip install jupyter notebook\n",
        "pip install matplotlib\n",
        "```\n",
        "#### Option 3: Google Colab (No Installation Required)\n",
        "- Go to https://colab.research.google.com\n",
        "- Sign in with Google account\n",
        "- Create new notebook\n",
        "### Verification Script\n",
        "Run this in Jupyter/Colab to verify setup:\n",
        "```python\n",
        "import sys\n",
        "print(f\"Python version: {sys.version}\")\n",
        "# Test basic functionality\n",
        "print(\"Yes Python is working correctly!\")\n",
        "```"
      ],
      "metadata": {
        "id": "A_4CTYPEExfm"
      }
    },
    {
      "cell_type": "markdown",
      "source": [
        "## Python Introduction & Basics\n",
        "### Learning Objectives\n",
        "- Understand Python's characteristics and applications\n",
        "- Master basic syntax and structure\n",
        "- Work with variables and data types\n"
      ],
      "metadata": {
        "id": "TAoxJ4DWFAxs"
      }
    },
    {
      "cell_type": "markdown",
      "source": [
        "### What is Python?\n",
        "\n",
        "# Python characteristics\n",
        "Python is:\n",
        "- Interpreted language\n",
        "- Dynamically typed\n",
        "- Object-oriented\n",
        "- Easy to learn and use\n",
        "\n",
        "**Why Python is Popular:**\n",
        "- Simple, readable syntax\n",
        "- Versatile (web development, automation, data analysis)\n",
        "- Large community support\n",
        "- Extensive library ecosystem\n"
      ],
      "metadata": {
        "id": "tpiye8GDFOAL"
      }
    },
    {
      "cell_type": "markdown",
      "source": [
        "### Python Syntax & Structure"
      ],
      "metadata": {
        "id": "KFtohoxjFc2C"
      }
    },
    {
      "cell_type": "markdown",
      "source": [
        "#### Basic syntax rules"
      ],
      "metadata": {
        "id": "wwDZzXG1OXlP"
      }
    },
    {
      "cell_type": "code",
      "source": [
        "print(\"Hello, World!\") # Function call\n",
        "x = 5 # Variable assignment\n",
        "y = 10 # No need to declare type"
      ],
      "metadata": {
        "colab": {
          "base_uri": "https://localhost:8080/"
        },
        "id": "bjUvPRzrOgUJ",
        "outputId": "5a226c40-7616-4dc5-af80-fe1e93ebc074"
      },
      "execution_count": null,
      "outputs": [
        {
          "output_type": "stream",
          "name": "stdout",
          "text": [
            "Hello, World!\n"
          ]
        }
      ]
    },
    {
      "cell_type": "markdown",
      "source": [
        "#### Python is case-sensitive"
      ],
      "metadata": {
        "id": "5S_bZzIzOe5c"
      }
    },
    {
      "cell_type": "code",
      "source": [
        "Name = \"John\"\n",
        "name = \"Jane\"\n",
        "print(Name, name) # Different variables"
      ],
      "metadata": {
        "colab": {
          "base_uri": "https://localhost:8080/"
        },
        "id": "-75B1T9MOo4X",
        "outputId": "e2f305df-0298-4080-ff68-37aac962f7d3"
      },
      "execution_count": null,
      "outputs": [
        {
          "output_type": "stream",
          "name": "stdout",
          "text": [
            "John Jane\n"
          ]
        }
      ]
    },
    {
      "cell_type": "markdown",
      "source": [
        "#### Indentation matters"
      ],
      "metadata": {
        "id": "wkZFf2W7OkvC"
      }
    },
    {
      "cell_type": "code",
      "execution_count": null,
      "metadata": {
        "id": "d608XlzdEpIj",
        "colab": {
          "base_uri": "https://localhost:8080/"
        },
        "outputId": "58603663-ad4c-4c4b-b6af-7cb71c5674c8"
      },
      "outputs": [
        {
          "output_type": "stream",
          "name": "stdout",
          "text": [
            "x is positive\n",
            "This is inside the if block\n"
          ]
        }
      ],
      "source": [
        "if x > 0:\n",
        "  print(\"x is positive\") # 4 spaces indentation\n",
        "  print(\"This is inside the if block\")\n"
      ]
    },
    {
      "cell_type": "markdown",
      "source": [
        "### Variables & Data Types"
      ],
      "metadata": {
        "id": "N5xxzKLEFvDN"
      }
    },
    {
      "cell_type": "markdown",
      "source": [
        "#### Numeric Types"
      ],
      "metadata": {
        "id": "FZF4OPKNNL8B"
      }
    },
    {
      "cell_type": "code",
      "source": [
        "age = 25 # int\n",
        "height = 5.9 # float\n",
        "complex_num = 3 + 4j # complex"
      ],
      "metadata": {
        "id": "_3TGFnYMNTM-"
      },
      "execution_count": null,
      "outputs": []
    },
    {
      "cell_type": "markdown",
      "source": [
        "#### String Type"
      ],
      "metadata": {
        "id": "kMDqM_z_NQFX"
      }
    },
    {
      "cell_type": "code",
      "source": [
        "name = \"Alice\"\n",
        "message = 'Hello World'\n",
        "multiline = \"\"\"This is a\n",
        "multiline string\"\"\""
      ],
      "metadata": {
        "id": "uILLu8ezNaSY"
      },
      "execution_count": null,
      "outputs": []
    },
    {
      "cell_type": "markdown",
      "source": [
        "#### Boolean Type"
      ],
      "metadata": {
        "id": "LYRRq5NMNWhT"
      }
    },
    {
      "cell_type": "code",
      "source": [
        "is_active = True\n",
        "is_finished = False"
      ],
      "metadata": {
        "id": "CJz49xd2OIKu"
      },
      "execution_count": null,
      "outputs": []
    },
    {
      "cell_type": "markdown",
      "source": [
        "#### Type Checking"
      ],
      "metadata": {
        "id": "3_OhkopaOE-b"
      }
    },
    {
      "cell_type": "code",
      "source": [
        "print(type(age)) # <class 'int'>\n",
        "print(type(height)) # <class 'float'>\n",
        "print(type(name)) # <class 'str'>"
      ],
      "metadata": {
        "id": "oH_eFheDONMF",
        "colab": {
          "base_uri": "https://localhost:8080/"
        },
        "outputId": "c5e421d9-94ab-4431-9cc1-e2005cabfeac"
      },
      "execution_count": null,
      "outputs": [
        {
          "output_type": "stream",
          "name": "stdout",
          "text": [
            "<class 'int'>\n",
            "<class 'float'>\n",
            "<class 'str'>\n"
          ]
        }
      ]
    },
    {
      "cell_type": "code",
      "source": [
        "type(age)"
      ],
      "metadata": {
        "colab": {
          "base_uri": "https://localhost:8080/"
        },
        "id": "-0vZQrFLEBYj",
        "outputId": "9a3b67d7-2d0f-4d8e-deaf-eda2814d2245"
      },
      "execution_count": null,
      "outputs": [
        {
          "output_type": "execute_result",
          "data": {
            "text/plain": [
              "int"
            ]
          },
          "metadata": {},
          "execution_count": 8
        }
      ]
    },
    {
      "cell_type": "markdown",
      "source": [
        "#### Type Conversion"
      ],
      "metadata": {
        "id": "2vcSYf2YOONH"
      }
    },
    {
      "cell_type": "code",
      "source": [
        "str_number = \"123\"\n",
        "int_number = int(str_number)\n",
        "float_number = float(str_number)\n",
        "\n",
        "print(f\"Original: {str_number} (type: {type(str_number)})\")\n",
        "print(f\"Integer: {int_number} (type: {type(int_number)})\")\n",
        "print(f\"Float: {float_number} (type: {type(float_number)})\")"
      ],
      "metadata": {
        "id": "9BUjZU7-FzAa",
        "colab": {
          "base_uri": "https://localhost:8080/"
        },
        "outputId": "7710524b-c924-475d-cc07-b54d608b066a"
      },
      "execution_count": null,
      "outputs": [
        {
          "output_type": "stream",
          "name": "stdout",
          "text": [
            "Original: 123 (type: <class 'str'>)\n",
            "Integer: 123 (type: <class 'int'>)\n",
            "Float: 123.0 (type: <class 'float'>)\n"
          ]
        }
      ]
    },
    {
      "cell_type": "markdown",
      "source": [
        "### **Hands-on Exercise:**\n",
        "## Exercise 1: Personal Information"
      ],
      "metadata": {
        "id": "XmxgIxFvF8gV"
      }
    },
    {
      "cell_type": "markdown",
      "source": [
        "#### Create variables for personal information"
      ],
      "metadata": {
        "id": "1aecWMwCNE6c"
      }
    },
    {
      "cell_type": "code",
      "source": [
        "first_name = \"Your First Name\"\n",
        "last_name = \"Your Last Name\"\n",
        "age = 25\n",
        "height = 5.8\n",
        "is_student = True"
      ],
      "metadata": {
        "id": "xLitE7vtGTYE"
      },
      "execution_count": null,
      "outputs": []
    },
    {
      "cell_type": "markdown",
      "source": [
        "#### Print formatted information"
      ],
      "metadata": {
        "id": "1KgwPRY5GUgW"
      }
    },
    {
      "cell_type": "code",
      "source": [
        "print(f\"Name: {first_name} {last_name}\")\n",
        "print(f\"Age: {age}\")\n",
        "print(f\"Height: {height} feet\")\n",
        "print(f\"Student: {is_student}\")"
      ],
      "metadata": {
        "id": "DMCUx8EHGXMJ"
      },
      "execution_count": null,
      "outputs": []
    },
    {
      "cell_type": "markdown",
      "source": [
        "#### Type conversions"
      ],
      "metadata": {
        "id": "fSF-Z7JuGaA5"
      }
    },
    {
      "cell_type": "code",
      "source": [
        "age_str = str(age)\n",
        "height_int = int(height)\n",
        "print(f\"Age as string: {age_str}\")\n",
        "print(f\"Height as integer: {height_int}\")"
      ],
      "metadata": {
        "id": "Z7Wi1eayGcTV"
      },
      "execution_count": null,
      "outputs": []
    },
    {
      "cell_type": "markdown",
      "source": [
        "## Operators & Basic Operations"
      ],
      "metadata": {
        "id": "XTOGATFJOyyF"
      }
    },
    {
      "cell_type": "markdown",
      "source": [
        "### Arithmetic Operators"
      ],
      "metadata": {
        "id": "BK92ZD_uO53s"
      }
    },
    {
      "cell_type": "code",
      "source": [
        "a = 10\n",
        "b = 3\n",
        "\n",
        "print(f\"Addition: {a} + {b} = {a + b}\")\n",
        "print(f\"Subtraction: {a} - {b} = {a - b}\")\n",
        "print(f\"Multiplication: {a} * {b} = {a * b}\")\n",
        "print(f\"Division: {a} / {b} = {a / b}\")\n",
        "print(f\"Floor Division: {a} // {b} = {a // b}\")\n",
        "print(f\"Modulus: {a} % {b} = {a % b}\")\n",
        "print(f\"Exponentiation: {a} ** {b} = {a ** b}\")"
      ],
      "metadata": {
        "id": "WRESeljAO1vs"
      },
      "execution_count": null,
      "outputs": []
    },
    {
      "cell_type": "markdown",
      "source": [
        "#### Order of operations (PEMDAS)\n",
        "\n",
        "- P - Parentheses\n",
        "- E - Exponents\n",
        "- M - Multiplication\n",
        "- D - Division\n",
        "- A - Addition\n",
        "- S - Subtraction"
      ],
      "metadata": {
        "id": "d8YixQc0PC6j"
      }
    },
    {
      "cell_type": "code",
      "source": [
        "result = 2 + 3 * 4 ** 2 - 1\n",
        "print(f\"2 + 3 * 4 ** 2 - 1 = {result}\")"
      ],
      "metadata": {
        "colab": {
          "base_uri": "https://localhost:8080/"
        },
        "id": "y-9AedpdPF8u",
        "outputId": "ff658987-db96-4589-f236-b7ab286a0764"
      },
      "execution_count": null,
      "outputs": [
        {
          "output_type": "stream",
          "name": "stdout",
          "text": [
            "2 + 3 * 4 ** 2 - 1 = 49\n"
          ]
        }
      ]
    },
    {
      "cell_type": "markdown",
      "source": [
        "### Relational Operators (or) Comparison"
      ],
      "metadata": {
        "id": "wKpKX-6pPkC0"
      }
    },
    {
      "cell_type": "code",
      "source": [
        "x = 5\n",
        "y = 10\n",
        "\n",
        "print(f\"{x} == {y}: {x == y}\") # Equal to\n",
        "print(f\"{x} != {y}: {x != y}\") # Not equal to\n",
        "print(f\"{x} < {y}: {x < y}\") # Less than\n",
        "print(f\"{x} > {y}: {x > y}\") # Greater than\n",
        "print(f\"{x} <= {y}: {x <= y}\") # Less than or equal\n",
        "print(f\"{x} >= {y}: {x >= y}\") # Greater than or equal"
      ],
      "metadata": {
        "id": "IVTcg0OMPnHK"
      },
      "execution_count": null,
      "outputs": []
    },
    {
      "cell_type": "markdown",
      "source": [
        "#### String comparison"
      ],
      "metadata": {
        "id": "Hq6dVAZvPx_r"
      }
    },
    {
      "cell_type": "code",
      "source": [
        "name1 = \"Alice\"\n",
        "name2 = \"Bob\"\n",
        "print(f\"'{name1}' < '{name2}': {name1 < name2}\") # Alphabetical order"
      ],
      "metadata": {
        "colab": {
          "base_uri": "https://localhost:8080/"
        },
        "id": "khi7yQFtP0DQ",
        "outputId": "93811fe0-2265-4322-c0f3-3ac24db46cfc"
      },
      "execution_count": null,
      "outputs": [
        {
          "output_type": "stream",
          "name": "stdout",
          "text": [
            "'Alice' < 'Bob': True\n"
          ]
        }
      ]
    },
    {
      "cell_type": "markdown",
      "source": [
        "### Logical Operators"
      ],
      "metadata": {
        "id": "tvFlF2xAP6v8"
      }
    },
    {
      "cell_type": "code",
      "source": [
        "p = True\n",
        "q = False\n",
        "\n",
        "print(f\"p and q: {p and q}\") # Both must be True\n",
        "print(f\"p or q: {p or q}\") # At least one must be True\n",
        "print(f\"not p: {not p}\") # Opposite of p\n"
      ],
      "metadata": {
        "colab": {
          "base_uri": "https://localhost:8080/"
        },
        "id": "5EVcmTkXP3Mv",
        "outputId": "76b79f90-0ef2-4c9f-c5c9-3bcdac3eed32"
      },
      "execution_count": null,
      "outputs": [
        {
          "output_type": "stream",
          "name": "stdout",
          "text": [
            "p and q: False\n",
            "p or q: True\n",
            "not p: False\n"
          ]
        }
      ]
    },
    {
      "cell_type": "code",
      "source": [
        "# Practical example\n",
        "age = 20\n",
        "has_license = True\n",
        "can_drive = age >= 18 and has_license\n",
        "print(f\"Can drive: {can_drive}\")"
      ],
      "metadata": {
        "colab": {
          "base_uri": "https://localhost:8080/"
        },
        "id": "lbkzSN1yP_q6",
        "outputId": "b46e864d-1167-44f6-90de-5fba3a706ee0"
      },
      "execution_count": null,
      "outputs": [
        {
          "output_type": "stream",
          "name": "stdout",
          "text": [
            "Can drive: True\n"
          ]
        }
      ]
    },
    {
      "cell_type": "code",
      "source": [
        "# Multiple conditions\n",
        "score = 85\n",
        "is_present = True\n",
        "can_pass = score >= 80 and is_present\n",
        "print(f\"Can pass: {can_pass}\")\n"
      ],
      "metadata": {
        "colab": {
          "base_uri": "https://localhost:8080/"
        },
        "id": "OrhUXJqrQD6Q",
        "outputId": "1e352ed9-6344-49b2-d93d-d5bd48521184"
      },
      "execution_count": null,
      "outputs": [
        {
          "output_type": "stream",
          "name": "stdout",
          "text": [
            "Can pass: True\n"
          ]
        }
      ]
    },
    {
      "cell_type": "markdown",
      "source": [
        "### Hands-on Exercise\n",
        "#### Exercise 2: Simple Calculator\n",
        "Create a calculator that checks if a person qualifies for a loan"
      ],
      "metadata": {
        "id": "PP_dnXQxQJCX"
      }
    },
    {
      "cell_type": "code",
      "source": [
        "# Personal information\n",
        "age = 25\n",
        "annual_income = 50000\n",
        "credit_score = 720\n",
        "has_collateral = True\n"
      ],
      "metadata": {
        "id": "Cc2-kVT9QGar"
      },
      "execution_count": null,
      "outputs": []
    },
    {
      "cell_type": "code",
      "source": [
        "# Loan criteria\n",
        "min_age = 18\n",
        "min_income = 30000\n",
        "min_credit_score = 650"
      ],
      "metadata": {
        "id": "F3pM31a5QUkK"
      },
      "execution_count": null,
      "outputs": []
    },
    {
      "cell_type": "code",
      "source": [
        "# Check qualifications\n",
        "age_qualified = age >= min_age\n",
        "income_qualified = annual_income >= min_income\n",
        "credit_qualified = credit_score >= min_credit_score\n",
        "overall_qualified = age_qualified and income_qualified and credit_qualified"
      ],
      "metadata": {
        "id": "seLUAkT-QV52"
      },
      "execution_count": null,
      "outputs": []
    },
    {
      "cell_type": "code",
      "source": [
        "print(\"=== Loan Qualification Check ===\")\n",
        "print(f\"Age: {age} (Required: {min_age}) - {'Yes' if age_qualified else 'No'}\")\n",
        "print(f\"Income: ${annual_income} (Required: ${min_income}) - {'Yes' if income_qualified else 'No'}\")\n",
        "print(f\"Credit Score: {credit_score} (Required: {min_credit_score}) - {'Yes' if credit_qualified else 'No'}\")\n",
        "print(f\"Has Collateral: {'Yes' if has_collateral else 'No'}\")\n",
        "print(f\"\\nOverall Qualification: {'QUALIFIED' if overall_qualified else 'NOT QUALIFIED'}\")"
      ],
      "metadata": {
        "colab": {
          "base_uri": "https://localhost:8080/"
        },
        "id": "55mRDRI_QZKT",
        "outputId": "09b04268-76fc-4e12-e1e2-8c73bb9900cc"
      },
      "execution_count": null,
      "outputs": [
        {
          "output_type": "stream",
          "name": "stdout",
          "text": [
            "=== Loan Qualification Check ===\n",
            "Age: 25 (Required: 18) - Yes\n",
            "Income: $50000 (Required: $30000) - Yes\n",
            "Credit Score: 720 (Required: 650) - Yes\n",
            "Has Collateral: Yes\n",
            "\n",
            "Overall Qualification: QUALIFIED\n"
          ]
        }
      ]
    },
    {
      "cell_type": "markdown",
      "source": [
        "## Data Structures"
      ],
      "metadata": {
        "id": "MTOyb3x7Q5iP"
      }
    },
    {
      "cell_type": "markdown",
      "source": [
        "### Lists"
      ],
      "metadata": {
        "id": "GsgAYVvTQhBx"
      }
    },
    {
      "cell_type": "markdown",
      "source": [
        "#### Creating lists"
      ],
      "metadata": {
        "id": "wkgsG9BDQqOs"
      }
    },
    {
      "cell_type": "code",
      "source": [
        "fruits = [\"apple\", \"banana\", \"orange\", \"grape\"]\n",
        "numbers = [10, 20, 30, 40, 50]\n",
        "mixed_data = [1, \"Hello\", 3.14, True]\n"
      ],
      "metadata": {
        "id": "sIpijpi4QcwU"
      },
      "execution_count": null,
      "outputs": []
    },
    {
      "cell_type": "markdown",
      "source": [
        "#### List indexing (0-based)"
      ],
      "metadata": {
        "id": "x8KKJL4HQtv5"
      }
    },
    {
      "cell_type": "code",
      "source": [
        "print(f\"First fruit: {fruits[0]}\")\n",
        "print(f\"Last fruit: {fruits[-1]}\")\n",
        "print(f\"Second to last: {fruits[-2]}\")"
      ],
      "metadata": {
        "colab": {
          "base_uri": "https://localhost:8080/"
        },
        "id": "THFtVWrBQvsi",
        "outputId": "d0e524cf-1791-46e0-900e-82c10027bc88"
      },
      "execution_count": null,
      "outputs": [
        {
          "output_type": "stream",
          "name": "stdout",
          "text": [
            "First fruit: apple\n",
            "Last fruit: grape\n",
            "Second to last: orange\n"
          ]
        }
      ]
    },
    {
      "cell_type": "markdown",
      "source": [
        "#### List slicing"
      ],
      "metadata": {
        "id": "x7bH1D84Qx47"
      }
    },
    {
      "cell_type": "code",
      "source": [
        "print(f\"First 2 fruits: {fruits[0:2]}\")\n",
        "print(f\"Last 2 fruits: {fruits[-2:]}\")\n",
        "print(f\"All except first: {fruits[1:]}\")"
      ],
      "metadata": {
        "id": "5Mngj9bnQxSG",
        "colab": {
          "base_uri": "https://localhost:8080/"
        },
        "outputId": "5bc466ea-c3e8-48ee-a70f-856462aed5d8"
      },
      "execution_count": null,
      "outputs": [
        {
          "output_type": "stream",
          "name": "stdout",
          "text": [
            "First 2 fruits: ['apple', 'banana']\n",
            "Last 2 fruits: ['orange', 'grape']\n",
            "All except first: ['banana', 'orange', 'grape']\n"
          ]
        }
      ]
    },
    {
      "cell_type": "markdown",
      "source": [
        "#### List methods"
      ],
      "metadata": {
        "id": "cPc7PKOOQ_V2"
      }
    },
    {
      "cell_type": "code",
      "source": [
        "fruits.append(\"kiwi\") # Add to end\n",
        "fruits.insert(1, \"strawberry\") # Insert at index\n",
        "removed = fruits.pop() # Remove last\n",
        "print(f\"Updated list: {fruits}\")\n",
        "print(f\"Removed: {removed}\")"
      ],
      "metadata": {
        "id": "2yXuDtl7RApH",
        "colab": {
          "base_uri": "https://localhost:8080/"
        },
        "outputId": "0941ac4e-0428-4bfc-93b7-9e2baa938992"
      },
      "execution_count": null,
      "outputs": [
        {
          "output_type": "stream",
          "name": "stdout",
          "text": [
            "Updated list: ['apple', 'strawberry', 'banana', 'orange', 'grape']\n",
            "Removed: kiwi\n"
          ]
        }
      ]
    },
    {
      "cell_type": "markdown",
      "source": [
        "#### List operations"
      ],
      "metadata": {
        "id": "557BPATQRDAx"
      }
    },
    {
      "cell_type": "code",
      "source": [
        "print(f\"Length: {len(fruits)}\")\n",
        "print(f\"Contains 'apple': {'apple' in fruits}\")\n",
        "print(f\"Index of 'banana': {fruits.index('banana')}\")"
      ],
      "metadata": {
        "id": "U6_rDCA5RHLV",
        "colab": {
          "base_uri": "https://localhost:8080/"
        },
        "outputId": "3c3f2e9a-8dff-4b25-aead-702f23f07493"
      },
      "execution_count": null,
      "outputs": [
        {
          "output_type": "stream",
          "name": "stdout",
          "text": [
            "Length: 5\n",
            "Contains 'apple': True\n",
            "Index of 'banana': 2\n"
          ]
        }
      ]
    },
    {
      "cell_type": "markdown",
      "source": [
        "### Tuples"
      ],
      "metadata": {
        "id": "D5ClbvT7RLaW"
      }
    },
    {
      "cell_type": "markdown",
      "source": [
        "#### Tuples are immutable"
      ],
      "metadata": {
        "id": "qnQIL8cuRfPp"
      }
    },
    {
      "cell_type": "code",
      "source": [
        "coordinates = (10, 20)\n",
        "rgb_color = (255, 128, 0)\n",
        "person_info = (\"Alice\", 25, \"Engineer\", True)"
      ],
      "metadata": {
        "id": "OZeN_LadRWzh"
      },
      "execution_count": null,
      "outputs": []
    },
    {
      "cell_type": "markdown",
      "source": [
        "#### Tuple unpacking"
      ],
      "metadata": {
        "id": "C1pNYsYqRhaT"
      }
    },
    {
      "cell_type": "code",
      "source": [
        "x, y = coordinates\n",
        "print(f\"X: {x}, Y: {y}\")"
      ],
      "metadata": {
        "id": "Crp-JWldRYqm"
      },
      "execution_count": null,
      "outputs": []
    },
    {
      "cell_type": "markdown",
      "source": [
        "#### Tuple methods"
      ],
      "metadata": {
        "id": "v0J4EdBFRkG0"
      }
    },
    {
      "cell_type": "code",
      "source": [
        "print(f\"Count of 25: {person_info.count(25)}\")\n",
        "print(f\"Index of 'Engineer': {person_info.index('Engineer')}\")"
      ],
      "metadata": {
        "id": "3HfDt13oRcoU"
      },
      "execution_count": null,
      "outputs": []
    },
    {
      "cell_type": "markdown",
      "source": [
        "#### Why use tuples?\n",
        "- Immutable (safe for dictionary keys)\n",
        "- Slightly faster than lists\n",
        "- Good for fixed collections"
      ],
      "metadata": {
        "id": "0rg6MhO1Rmz-"
      }
    },
    {
      "cell_type": "markdown",
      "source": [
        "### Dictionaries"
      ],
      "metadata": {
        "id": "vH3mjGiGRtnh"
      }
    },
    {
      "cell_type": "markdown",
      "source": [
        "#### Dictionary creation"
      ],
      "metadata": {
        "id": "UvmEQS8jSPYp"
      }
    },
    {
      "cell_type": "code",
      "source": [
        "person = {\n",
        "\"name\": \"Alice Johnson\",\n",
        "\"age\": 23,\n",
        "\"profession\": \"Software Engineer\",\n",
        "\"salary\": 75000,\n",
        "\"skills\": [\"Python\", \"JavaScript\", \"SQL\"]\n",
        "}"
      ],
      "metadata": {
        "id": "ksVOBbm-Rwm_"
      },
      "execution_count": null,
      "outputs": []
    },
    {
      "cell_type": "markdown",
      "source": [
        "#### Accessing values"
      ],
      "metadata": {
        "id": "XkM8o5rlSM15"
      }
    },
    {
      "cell_type": "code",
      "source": [
        "print(f\"Name: {person['name']}\")\n",
        "print(f\"Age: {person.get('age', 'Unknown')}\") # Safe access"
      ],
      "metadata": {
        "id": "nNxAZEEWR6ml",
        "colab": {
          "base_uri": "https://localhost:8080/"
        },
        "outputId": "efd76bc3-fbd4-4d9a-e60a-8afab6302b86"
      },
      "execution_count": null,
      "outputs": [
        {
          "output_type": "stream",
          "name": "stdout",
          "text": [
            "Name: Alice Johnson\n",
            "Age: 23\n"
          ]
        }
      ]
    },
    {
      "cell_type": "markdown",
      "source": [
        "#### Dictionary methods"
      ],
      "metadata": {
        "id": "U7OrbANiSKh9"
      }
    },
    {
      "cell_type": "code",
      "source": [
        "print(f\"Keys: {list(person.keys())}\")\n",
        "print(f\"Values: {list(person.values())}\")\n",
        "print(f\"Items: {list(person.items())}\")\n"
      ],
      "metadata": {
        "id": "7YqyyKelR8R1",
        "colab": {
          "base_uri": "https://localhost:8080/"
        },
        "outputId": "c28c2692-1310-40b0-ca24-ac6292c2eb79"
      },
      "execution_count": null,
      "outputs": [
        {
          "output_type": "stream",
          "name": "stdout",
          "text": [
            "Keys: ['name', 'age', 'profession', 'salary', 'skills']\n",
            "Values: ['Alice Johnson', 23, 'Software Engineer', 75000, ['Python', 'JavaScript', 'SQL']]\n",
            "Items: [('name', 'Alice Johnson'), ('age', 23), ('profession', 'Software Engineer'), ('salary', 75000), ('skills', ['Python', 'JavaScript', 'SQL'])]\n"
          ]
        }
      ]
    },
    {
      "cell_type": "markdown",
      "source": [
        "#### Adding/updating"
      ],
      "metadata": {
        "id": "M1H-xY0vSH67"
      }
    },
    {
      "cell_type": "code",
      "source": [
        "person[\"location\"] = \"New York\"\n",
        "person[\"salary\"] = 80000 # Update existing"
      ],
      "metadata": {
        "id": "nTr96S6bR-4H"
      },
      "execution_count": null,
      "outputs": []
    },
    {
      "cell_type": "markdown",
      "source": [
        "#### Practical use case: Inventory management"
      ],
      "metadata": {
        "id": "QMjvF2BBSGq6"
      }
    },
    {
      "cell_type": "code",
      "source": [
        "inventory = {\n",
        "  \"laptops\": {\n",
        "      \"quantity\": 50,\n",
        "      \"price\": 999.99\n",
        "  },\n",
        "  \"phones\": {\n",
        "      \"quantity\": 100,\n",
        "      \"price\": 599.99\n",
        "  },\n",
        "  \"tablets\": {\n",
        "      \"quantity\": 30,\n",
        "      \"price\": 399.99\n",
        "  }\n",
        "}"
      ],
      "metadata": {
        "id": "0SMt998SSAq8"
      },
      "execution_count": null,
      "outputs": []
    },
    {
      "cell_type": "markdown",
      "source": [
        "#### Nested access"
      ],
      "metadata": {
        "id": "dPbJYsNcSDqx"
      }
    },
    {
      "cell_type": "code",
      "source": [
        "print(f\"Laptop price: ${inventory['laptops']['price']}\")"
      ],
      "metadata": {
        "id": "Mv1_cYEXSCyS",
        "colab": {
          "base_uri": "https://localhost:8080/"
        },
        "outputId": "57ac7ba1-035b-4d5f-eba3-4fc2a41b74b7"
      },
      "execution_count": null,
      "outputs": [
        {
          "output_type": "stream",
          "name": "stdout",
          "text": [
            "Laptop price: $999.99\n"
          ]
        }
      ]
    },
    {
      "cell_type": "markdown",
      "source": [
        "### Sets"
      ],
      "metadata": {
        "id": "zgSLZ3iTSTVL"
      }
    },
    {
      "cell_type": "markdown",
      "source": [
        "#### Sets contain unique elements"
      ],
      "metadata": {
        "id": "Ab3N_5RESb50"
      }
    },
    {
      "cell_type": "code",
      "source": [
        "colors = {\"red\", \"green\", \"blue\", \"red\"} # Duplicate removed\n",
        "print(f\"Colors: {colors}\")"
      ],
      "metadata": {
        "id": "v-adjjChSUVO",
        "colab": {
          "base_uri": "https://localhost:8080/"
        },
        "outputId": "ffc47404-7fc7-41f5-ba89-4015d5a076cc"
      },
      "execution_count": null,
      "outputs": [
        {
          "output_type": "stream",
          "name": "stdout",
          "text": [
            "Colors: {'blue', 'green', 'red'}\n"
          ]
        }
      ]
    },
    {
      "cell_type": "markdown",
      "source": [
        "#### Set operations"
      ],
      "metadata": {
        "id": "n0QzSg1-SkZU"
      }
    },
    {
      "cell_type": "code",
      "source": [
        "team1_skills = {\"Python\", \"JavaScript\", \"SQL\", \"React\"}\n",
        "team2_skills = {\"JavaScript\", \"SQL\", \"Java\", \"Spring\"}"
      ],
      "metadata": {
        "id": "_RwKrv9GSWzV"
      },
      "execution_count": null,
      "outputs": []
    },
    {
      "cell_type": "markdown",
      "source": [
        "#### Common operations"
      ],
      "metadata": {
        "id": "voPxMXpjSmkz"
      }
    },
    {
      "cell_type": "code",
      "source": [
        "print(f\"Common skills: {team1_skills.intersection(team2_skills)}\")\n",
        "print(f\"All skills: {team1_skills.union(team2_skills)}\")\n",
        "print(f\"Team1 only: {team1_skills.difference(team2_skills)}\")"
      ],
      "metadata": {
        "id": "nLntqCdASYdX",
        "colab": {
          "base_uri": "https://localhost:8080/"
        },
        "outputId": "3e0eaa6d-fbb0-4e20-d6c0-4407e938f6c3"
      },
      "execution_count": null,
      "outputs": [
        {
          "output_type": "stream",
          "name": "stdout",
          "text": [
            "Common skills: {'JavaScript', 'SQL'}\n",
            "All skills: {'Spring', 'React', 'Java', 'SQL', 'Python', 'JavaScript'}\n",
            "Team1 only: {'React', 'Python'}\n"
          ]
        }
      ]
    },
    {
      "cell_type": "markdown",
      "source": [
        "#### Adding to sets"
      ],
      "metadata": {
        "id": "NA9NERBDSon9"
      }
    },
    {
      "cell_type": "code",
      "source": [
        "colors.add(\"yellow\")\n",
        "colors.update([\"purple\", \"orange\"])\n",
        "print(f\"Updated colors: {colors}\")"
      ],
      "metadata": {
        "id": "H4wXUvIBSaAs",
        "colab": {
          "base_uri": "https://localhost:8080/"
        },
        "outputId": "c28bbc2e-7d12-4776-b848-10615346846c"
      },
      "execution_count": null,
      "outputs": [
        {
          "output_type": "stream",
          "name": "stdout",
          "text": [
            "Updated colors: {'orange', 'blue', 'green', 'purple', 'red', 'yellow'}\n"
          ]
        }
      ]
    },
    {
      "cell_type": "markdown",
      "source": [
        "## Control Flow"
      ],
      "metadata": {
        "id": "6v2rm0-xS8BP"
      }
    },
    {
      "cell_type": "markdown",
      "source": [
        "### Conditional Statements"
      ],
      "metadata": {
        "id": "8Nb1D5sOkfSN"
      }
    },
    {
      "cell_type": "markdown",
      "source": [
        "#### Basic if-else"
      ],
      "metadata": {
        "id": "3UaEcCwKkjaL"
      }
    },
    {
      "cell_type": "code",
      "source": [
        "def get_grade_letter(score):\n",
        "  if score >= 90:\n",
        "    return \"A\"\n",
        "  elif score >= 80:\n",
        "    return \"B\"\n",
        "  elif score >= 70:\n",
        "    return \"C\"\n",
        "  elif score >= 60:\n",
        "    return \"D\"\n",
        "  else:\n",
        "    return \"F\""
      ],
      "metadata": {
        "id": "oWhOfCyzkkxu"
      },
      "execution_count": null,
      "outputs": []
    },
    {
      "cell_type": "markdown",
      "source": [
        "#### Test the function"
      ],
      "metadata": {
        "id": "DTP_HkSckug-"
      }
    },
    {
      "cell_type": "code",
      "source": [
        "test_scores = [95, 83, 72, 65, 58]\n",
        "for score in test_scores:\n",
        "  grade = get_grade_letter(score)\n",
        "  print(f\"Score {score}: Grade {grade}\")"
      ],
      "metadata": {
        "colab": {
          "base_uri": "https://localhost:8080/"
        },
        "id": "GaxxA3r9kzO6",
        "outputId": "b4533be8-1a96-4409-e706-03c9f4e3cd62"
      },
      "execution_count": null,
      "outputs": [
        {
          "output_type": "stream",
          "name": "stdout",
          "text": [
            "Score 95: Grade A\n",
            "Score 83: Grade B\n",
            "Score 72: Grade C\n",
            "Score 65: Grade D\n",
            "Score 58: Grade F\n"
          ]
        }
      ]
    },
    {
      "cell_type": "markdown",
      "source": [
        "#### Nested conditions"
      ],
      "metadata": {
        "id": "HXL2cM7Ak4ud"
      }
    },
    {
      "cell_type": "code",
      "source": [
        "def get_shipping_cost(weight, distance):\n",
        "  base_cost = 5.0\n",
        "\n",
        "  if weight <= 1:\n",
        "    weight_cost = 2.0\n",
        "  elif weight <= 5:\n",
        "    weight_cost = 5.0\n",
        "  else:\n",
        "    weight_cost = 10.0\n",
        "\n",
        "  if distance <= 100:\n",
        "    distance_cost = 1.0\n",
        "  elif distance <= 500:\n",
        "    distance_cost = 3.0\n",
        "  else:\n",
        "    distance_cost = 7.0\n",
        "  return base_cost + weight_cost + distance_cost"
      ],
      "metadata": {
        "id": "xXAaE2uzk8dz"
      },
      "execution_count": null,
      "outputs": []
    },
    {
      "cell_type": "markdown",
      "source": [
        "#### Test shipping costs"
      ],
      "metadata": {
        "id": "BjEUqU9tlBMG"
      }
    },
    {
      "cell_type": "code",
      "source": [
        "print(f\"Light, close: ${get_shipping_cost(0.5, 50)}\")\n",
        "print(f\"Heavy, far: ${get_shipping_cost(10, 800)}\")"
      ],
      "metadata": {
        "colab": {
          "base_uri": "https://localhost:8080/"
        },
        "id": "w5qxCo8LlFK3",
        "outputId": "92975c94-a851-4886-ba32-309047f069bc"
      },
      "execution_count": null,
      "outputs": [
        {
          "output_type": "stream",
          "name": "stdout",
          "text": [
            "Light, close: $8.0\n",
            "Heavy, far: $22.0\n"
          ]
        }
      ]
    },
    {
      "cell_type": "markdown",
      "source": [
        "### Loops - For Loop\n",
        "\n",
        "\n"
      ],
      "metadata": {
        "id": "y0GptO0eTEdT"
      }
    },
    {
      "cell_type": "markdown",
      "source": [
        "#### Basic for loop"
      ],
      "metadata": {
        "id": "H41nxc5emFf0"
      }
    },
    {
      "cell_type": "code",
      "source": [
        "fruits = [\"apple\", \"banana\", \"orange\", \"grape\"]\n",
        "for fruit in fruits:\n",
        "  print(f\"I like {fruit}\")"
      ],
      "metadata": {
        "colab": {
          "base_uri": "https://localhost:8080/"
        },
        "id": "YaKRBv7SmdAu",
        "outputId": "cfab27e0-f3b4-46b3-bf83-ff236e48da2a"
      },
      "execution_count": null,
      "outputs": [
        {
          "output_type": "stream",
          "name": "stdout",
          "text": [
            "I like apple\n",
            "I like banana\n",
            "I like orange\n",
            "I like grape\n"
          ]
        }
      ]
    },
    {
      "cell_type": "markdown",
      "source": [
        "#### Loop with enumerate (get index)"
      ],
      "metadata": {
        "id": "msggv2S2mLFT"
      }
    },
    {
      "cell_type": "code",
      "source": [
        "for i, fruit in enumerate(fruits):\n",
        "  print(f\"{i+1}. {fruit}\")"
      ],
      "metadata": {
        "colab": {
          "base_uri": "https://localhost:8080/"
        },
        "id": "QsS_OL_qmhla",
        "outputId": "1b95752f-b437-4026-c37d-0546ffc96223"
      },
      "execution_count": null,
      "outputs": [
        {
          "output_type": "stream",
          "name": "stdout",
          "text": [
            "1. apple\n",
            "2. banana\n",
            "3. orange\n",
            "4. grape\n"
          ]
        }
      ]
    },
    {
      "cell_type": "markdown",
      "source": [
        "#### Loop with range"
      ],
      "metadata": {
        "id": "elfSAfFAmOjh"
      }
    },
    {
      "cell_type": "code",
      "source": [
        "for day in range(1, 8):\n",
        "  print(f\"Day {day} of the week\")"
      ],
      "metadata": {
        "colab": {
          "base_uri": "https://localhost:8080/"
        },
        "id": "RU_JTR82mkuL",
        "outputId": "74152769-7433-4506-c886-6e4d9fbec8a2"
      },
      "execution_count": null,
      "outputs": [
        {
          "output_type": "stream",
          "name": "stdout",
          "text": [
            "Day 1 of the week\n",
            "Day 2 of the week\n",
            "Day 3 of the week\n",
            "Day 4 of the week\n",
            "Day 5 of the week\n",
            "Day 6 of the week\n",
            "Day 7 of the week\n"
          ]
        }
      ]
    },
    {
      "cell_type": "markdown",
      "source": [
        "#### Nested loops - Creating a multiplication table"
      ],
      "metadata": {
        "id": "J3JgKZZQmTt3"
      }
    },
    {
      "cell_type": "code",
      "source": [
        "print(\"Multiplication Table:\")\n",
        "for i in range(1, 6):\n",
        "  for j in range(1, 6):\n",
        "    product = i * j\n",
        "    print(f\"{i} x {j} = {product:2d}\", end=\" \")\n",
        "    print() # New line after each row"
      ],
      "metadata": {
        "colab": {
          "base_uri": "https://localhost:8080/"
        },
        "id": "_WB3xTt6mpKE",
        "outputId": "69f24dae-b621-4f21-ee7d-838a68a72b91"
      },
      "execution_count": null,
      "outputs": [
        {
          "output_type": "stream",
          "name": "stdout",
          "text": [
            "Multiplication Table:\n",
            "1 x 1 =  1 \n",
            "1 x 2 =  2 \n",
            "1 x 3 =  3 \n",
            "1 x 4 =  4 \n",
            "1 x 5 =  5 \n",
            "2 x 1 =  2 \n",
            "2 x 2 =  4 \n",
            "2 x 3 =  6 \n",
            "2 x 4 =  8 \n",
            "2 x 5 = 10 \n",
            "3 x 1 =  3 \n",
            "3 x 2 =  6 \n",
            "3 x 3 =  9 \n",
            "3 x 4 = 12 \n",
            "3 x 5 = 15 \n",
            "4 x 1 =  4 \n",
            "4 x 2 =  8 \n",
            "4 x 3 = 12 \n",
            "4 x 4 = 16 \n",
            "4 x 5 = 20 \n",
            "5 x 1 =  5 \n",
            "5 x 2 = 10 \n",
            "5 x 3 = 15 \n",
            "5 x 4 = 20 \n",
            "5 x 5 = 25 \n"
          ]
        }
      ]
    },
    {
      "cell_type": "markdown",
      "source": [
        "#### Processing data with loops"
      ],
      "metadata": {
        "id": "S2z8VUcdmX8w"
      }
    },
    {
      "cell_type": "code",
      "source": [
        "sales_data = [\n",
        "{\"product\": \"Laptop\", \"price\": 999, \"quantity\": 5},\n",
        "{\"product\": \"Phone\", \"price\": 599, \"quantity\": 10},\n",
        "{\"product\": \"Tablet\", \"price\": 399, \"quantity\": 8}\n",
        "]\n",
        "\n",
        "total_revenue = 0\n",
        "\n",
        "for item in sales_data:\n",
        "  item_revenue = item[\"price\"] * item[\"quantity\"]\n",
        "  total_revenue += item_revenue\n",
        "  print(f\"{item['product']}: ${item_revenue}\")\n",
        "\n",
        "print(f\"Total Revenue: ${total_revenue}\")"
      ],
      "metadata": {
        "colab": {
          "base_uri": "https://localhost:8080/"
        },
        "id": "mlbJAlsrmxez",
        "outputId": "a3085b1e-66d0-40fa-c530-3589f577eb35",
        "collapsed": true
      },
      "execution_count": null,
      "outputs": [
        {
          "output_type": "stream",
          "name": "stdout",
          "text": [
            "Laptop: $4995\n",
            "Phone: $5990\n",
            "Tablet: $3192\n",
            "Total Revenue: $14177\n"
          ]
        }
      ]
    },
    {
      "cell_type": "markdown",
      "source": [
        "### Loops - While Loop"
      ],
      "metadata": {
        "id": "77bNlgPWTK8X"
      }
    },
    {
      "cell_type": "markdown",
      "source": [
        "#### While loop for user input simulation"
      ],
      "metadata": {
        "id": "WzlNAgX9m_x1"
      }
    },
    {
      "cell_type": "code",
      "source": [
        "def simple_guessing_game():\n",
        "  target = 7\n",
        "  guess = 0\n",
        "  attempts = 0\n",
        "  print(\"Guess the number between 1 and 10!\")\n",
        "\n",
        "  while guess != target:\n",
        "\n",
        "    # Simulate user input\n",
        "    import random\n",
        "    guess = random.randint(1, 10)\n",
        "    attempts += 1\n",
        "\n",
        "    if guess < target:\n",
        "      print(f\"Guess {attempts}: {guess} - Too low!\")\n",
        "    elif guess > target:\n",
        "      print(f\"Guess {attempts}: {guess} - Too high!\")\n",
        "    else:\n",
        "      print(f\"Guess {attempts}: {guess} - Correct!\")\n",
        "\n",
        "    # Safety check\n",
        "    if attempts > 10:\n",
        "      print(\"Max attempts reached!\")\n",
        "      break\n",
        "\n",
        "  print(f\"Game finished in {attempts} attempts\")\n",
        "\n",
        "simple_guessing_game()\n"
      ],
      "metadata": {
        "colab": {
          "base_uri": "https://localhost:8080/"
        },
        "id": "R-ah-Dc7nC--",
        "outputId": "02365f3c-eb82-4d4f-bbf3-3ab3c9c86045"
      },
      "execution_count": null,
      "outputs": [
        {
          "output_type": "stream",
          "name": "stdout",
          "text": [
            "Guess the number between 1 and 10!\n",
            "Guess 1: 10 - Too high!\n",
            "Guess 2: 2 - Too low!\n",
            "Guess 3: 6 - Too low!\n",
            "Guess 4: 8 - Too high!\n",
            "Guess 5: 5 - Too low!\n",
            "Guess 6: 9 - Too high!\n",
            "Guess 7: 1 - Too low!\n",
            "Guess 8: 3 - Too low!\n",
            "Guess 9: 1 - Too low!\n",
            "Guess 10: 1 - Too low!\n",
            "Guess 11: 9 - Too high!\n",
            "Max attempts reached!\n",
            "Game finished in 11 attempts\n"
          ]
        }
      ]
    },
    {
      "cell_type": "markdown",
      "source": [
        "#### While loop for processing"
      ],
      "metadata": {
        "id": "VDcdhGw5nyLL"
      }
    },
    {
      "cell_type": "code",
      "source": [
        "def process_queue():\n",
        "  queue = [\"Task 1\", \"Task 2\", \"Task 3\", \"Task 4\"]\n",
        "\n",
        "  while queue:\n",
        "    current_task = queue.pop(0) # Remove first item\n",
        "    print(f\"Processing: {current_task}\")\n",
        "\n",
        "    print(f\"Remaining tasks: {len(queue)}\")\n",
        "\n",
        "  print(\"All tasks completed!\")\n",
        "\n",
        "process_queue()"
      ],
      "metadata": {
        "colab": {
          "base_uri": "https://localhost:8080/"
        },
        "id": "I9a3Xl9ln1H0",
        "outputId": "da200463-3a06-4304-9568-176c20fa9371"
      },
      "execution_count": null,
      "outputs": [
        {
          "output_type": "stream",
          "name": "stdout",
          "text": [
            "Processing: Task 1\n",
            "Remaining tasks: 3\n",
            "Processing: Task 2\n",
            "Remaining tasks: 2\n",
            "Processing: Task 3\n",
            "Remaining tasks: 1\n",
            "Processing: Task 4\n",
            "Remaining tasks: 0\n",
            "All tasks completed!\n"
          ]
        }
      ]
    },
    {
      "cell_type": "markdown",
      "source": [
        "## Functions\n",
        "\n"
      ],
      "metadata": {
        "id": "U7Ivt-moTSNI"
      }
    },
    {
      "cell_type": "markdown",
      "source": [
        "### Function Basics"
      ],
      "metadata": {
        "id": "ZErA5PfpNLeI"
      }
    },
    {
      "cell_type": "markdown",
      "source": [
        "#### Basic function definition"
      ],
      "metadata": {
        "id": "s3Zsn3snNYpL"
      }
    },
    {
      "cell_type": "code",
      "source": [
        "def greet(name):\n",
        "  return f\"Hello, {name}!\""
      ],
      "metadata": {
        "id": "30V8YWAZNdue"
      },
      "execution_count": null,
      "outputs": []
    },
    {
      "cell_type": "markdown",
      "source": [
        "#### Function call"
      ],
      "metadata": {
        "id": "GS2tA1PVNizE"
      }
    },
    {
      "cell_type": "code",
      "source": [
        "message = greet(\"Python Programmer\")\n",
        "print(message)"
      ],
      "metadata": {
        "colab": {
          "base_uri": "https://localhost:8080/"
        },
        "id": "Bflp8fbcNldQ",
        "outputId": "edef9282-f814-4f4f-de9b-991f95496335"
      },
      "execution_count": null,
      "outputs": [
        {
          "output_type": "stream",
          "name": "stdout",
          "text": [
            "Hello, Python Programmer!\n"
          ]
        }
      ]
    },
    {
      "cell_type": "markdown",
      "source": [
        "#### Function with multiple parameters"
      ],
      "metadata": {
        "id": "sRBp4p8aNp5M"
      }
    },
    {
      "cell_type": "code",
      "source": [
        "def calculate_area(length, width):\n",
        "  area = length * width\n",
        "  return area"
      ],
      "metadata": {
        "id": "rWhPhFpBNsSM"
      },
      "execution_count": null,
      "outputs": []
    },
    {
      "cell_type": "markdown",
      "source": [
        "#### Test the function\n"
      ],
      "metadata": {
        "id": "jUfI1b6QNyLX"
      }
    },
    {
      "cell_type": "code",
      "source": [
        "room_area = calculate_area(12, 10)\n",
        "print(f\"Room area: {room_area} square feet\")"
      ],
      "metadata": {
        "colab": {
          "base_uri": "https://localhost:8080/"
        },
        "id": "rwKULHBvN0n4",
        "outputId": "e6679729-edcc-4069-8d0f-54614a42338d"
      },
      "execution_count": null,
      "outputs": [
        {
          "output_type": "stream",
          "name": "stdout",
          "text": [
            "Room area: 120 square feet\n"
          ]
        }
      ]
    },
    {
      "cell_type": "markdown",
      "source": [
        "#### Function with default parameters"
      ],
      "metadata": {
        "id": "uv52sgEEN4lH"
      }
    },
    {
      "cell_type": "code",
      "source": [
        "def create_user_profile(name, age=18, location=\"Unknown\", active=True):\n",
        "  return {\n",
        "      \"name\": name,\n",
        "      \"age\": age,\n",
        "      \"location\": location,\n",
        "      \"active\": active\n",
        "  }"
      ],
      "metadata": {
        "id": "QQ1VznreN7P-"
      },
      "execution_count": null,
      "outputs": []
    },
    {
      "cell_type": "markdown",
      "source": [
        "#### Different ways to call"
      ],
      "metadata": {
        "id": "8OKOk3y4OELX"
      }
    },
    {
      "cell_type": "code",
      "source": [
        "profile1 = create_user_profile(\"Alice\") # Use defaults\n",
        "profile2 = create_user_profile(\"Bob\", 25) # Override age\n",
        "profile3 = create_user_profile(\n",
        "    \"Charlie\",\n",
        "    location=\"New York\",\n",
        "    age=30) # Named parameters\n",
        "\n",
        "print(f\"Profile 1: {profile1}\")\n",
        "print(f\"Profile 2: {profile2}\")\n",
        "print(f\"Profile 3: {profile3}\")"
      ],
      "metadata": {
        "colab": {
          "base_uri": "https://localhost:8080/"
        },
        "id": "no5DgsFeOG3Q",
        "outputId": "31928108-0478-42dc-cf86-2342c7f8dd61"
      },
      "execution_count": null,
      "outputs": [
        {
          "output_type": "stream",
          "name": "stdout",
          "text": [
            "Profile 1: {'name': 'Alice', 'age': 18, 'location': 'Unknown', 'active': True}\n",
            "Profile 2: {'name': 'Bob', 'age': 25, 'location': 'Unknown', 'active': True}\n",
            "Profile 3: {'name': 'Charlie', 'age': 30, 'location': 'New York', 'active': True}\n"
          ]
        }
      ]
    },
    {
      "cell_type": "markdown",
      "source": [
        "### Advanced Function Concepts\n",
        "\n",
        "\n",
        "\n",
        "\n"
      ],
      "metadata": {
        "id": "fFkxFj8sTYz4"
      }
    },
    {
      "cell_type": "markdown",
      "source": [
        "#### Function returning multiple values"
      ],
      "metadata": {
        "id": "iNtXtGR0OSrK"
      }
    },
    {
      "cell_type": "code",
      "source": [
        "def analyze_text(text):\n",
        "  words = text.split()\n",
        "  word_count = len(words)\n",
        "  char_count = len(text)\n",
        "  char_count_no_spaces = len(text.replace(\" \", \"\"))\n",
        "\n",
        "  return word_count, char_count, char_count_no_spaces"
      ],
      "metadata": {
        "id": "FV5WWl4zOVEA"
      },
      "execution_count": null,
      "outputs": []
    },
    {
      "cell_type": "markdown",
      "source": [
        "#### Test with sample text"
      ],
      "metadata": {
        "id": "j0wVsZ4yObvf"
      }
    },
    {
      "cell_type": "code",
      "source": [
        "sample_text = \"Python is a powerful programming language\"\n",
        "\n",
        "words, chars, chars_no_space = analyze_text(sample_text)\n",
        "\n",
        "print(f\"Text: '{sample_text}'\")\n",
        "print(f\"Word count: {words}\")\n",
        "print(f\"Character count: {chars}\")\n",
        "print(f\"Characters (no spaces): {chars_no_space}\")"
      ],
      "metadata": {
        "colab": {
          "base_uri": "https://localhost:8080/"
        },
        "id": "ghGZmiTnOeXS",
        "outputId": "6c49e794-eb63-415d-bbbf-b2f116872f02"
      },
      "execution_count": null,
      "outputs": [
        {
          "output_type": "stream",
          "name": "stdout",
          "text": [
            "Text: 'Python is a powerful programming language'\n",
            "Word count: 6\n",
            "Character count: 41\n",
            "Characters (no spaces): 36\n"
          ]
        }
      ]
    },
    {
      "cell_type": "markdown",
      "source": [
        "#### Variable-length arguments"
      ],
      "metadata": {
        "id": "VE7DB58QOiJE"
      }
    },
    {
      "cell_type": "code",
      "source": [
        "def calculate_average(*numbers):\n",
        "  if not numbers:\n",
        "    return 0\n",
        "\n",
        "  return sum(numbers) / len(numbers)"
      ],
      "metadata": {
        "id": "TFDXBZRiOkao"
      },
      "execution_count": null,
      "outputs": []
    },
    {
      "cell_type": "markdown",
      "source": [
        "#### Test with different numbers of arguments"
      ],
      "metadata": {
        "id": "qNCd8kdtOqRq"
      }
    },
    {
      "cell_type": "code",
      "source": [
        "avg1 = calculate_average(10, 20, 30)\n",
        "avg2 = calculate_average(5, 15, 25, 35, 45)\n",
        "avg3 = calculate_average(100)\n",
        "\n",
        "print(f\"Average of 10, 20, 30: {avg1}\")\n",
        "print(f\"Average of 5, 15, 25, 35, 45: {avg2}\")\n",
        "print(f\"Average of 100: {avg3}\")"
      ],
      "metadata": {
        "colab": {
          "base_uri": "https://localhost:8080/"
        },
        "id": "cSQ4CZSKOsiN",
        "outputId": "f48506f2-57b6-46df-c7ff-f1795a0c8ed7"
      },
      "execution_count": null,
      "outputs": [
        {
          "output_type": "stream",
          "name": "stdout",
          "text": [
            "Average of 10, 20, 30: 20.0\n",
            "Average of 5, 15, 25, 35, 45: 25.0\n",
            "Average of 100: 100.0\n"
          ]
        }
      ]
    },
    {
      "cell_type": "markdown",
      "source": [
        "#### Keyword arguments"
      ],
      "metadata": {
        "id": "tnSZEtbpOxRu"
      }
    },
    {
      "cell_type": "code",
      "source": [
        "def create_report(**data):\n",
        "  print(\"=== REPORT ===\")\n",
        "\n",
        "  for key, value in data.items():\n",
        "    print(f\"{key.replace('_', ' ').title()}: {value}\")\n",
        "\n",
        "  print(\"===============\")\n",
        "\n",
        "create_report(\n",
        "  title=\"Monthly Sales Report\",\n",
        "  date=\"2024-01-01\",\n",
        "  total_sales=15000,\n",
        "  new_customers=25,\n",
        "  returning_customers=150\n",
        ")\n"
      ],
      "metadata": {
        "colab": {
          "base_uri": "https://localhost:8080/"
        },
        "id": "YH0HqsbrOzwx",
        "outputId": "69e06393-3e09-433c-c6cf-e50a67abfffe"
      },
      "execution_count": null,
      "outputs": [
        {
          "output_type": "stream",
          "name": "stdout",
          "text": [
            "=== REPORT ===\n",
            "Title: Monthly Sales Report\n",
            "Date: 2024-01-01\n",
            "Total Sales: 15000\n",
            "New Customers: 25\n",
            "Returning Customers: 150\n",
            "===============\n"
          ]
        }
      ]
    },
    {
      "cell_type": "markdown",
      "source": [
        "### Lambda Functions\n",
        "Lambda functions (anonymous functions)"
      ],
      "metadata": {
        "id": "5DVyfO9PTdjm"
      }
    },
    {
      "cell_type": "markdown",
      "source": [
        "#### Regular function"
      ],
      "metadata": {
        "id": "-P7K1Ct1PJuO"
      }
    },
    {
      "cell_type": "code",
      "source": [
        "def square(x):\n",
        "  return x ** 2"
      ],
      "metadata": {
        "id": "6qbTMBGDPLqi"
      },
      "execution_count": null,
      "outputs": []
    },
    {
      "cell_type": "markdown",
      "source": [
        "#### Lambda equivalent"
      ],
      "metadata": {
        "id": "khH73NLNPPSI"
      }
    },
    {
      "cell_type": "code",
      "source": [
        "square_lambda = lambda x: x ** 2\n",
        "print(f\"Regular function: {square(5)}\")\n",
        "print(f\"Lambda function: {square_lambda(5)}\")"
      ],
      "metadata": {
        "colab": {
          "base_uri": "https://localhost:8080/"
        },
        "id": "IczolidLPROq",
        "outputId": "8486b4b7-8a04-4b67-f2e3-848eaef50ee5"
      },
      "execution_count": null,
      "outputs": [
        {
          "output_type": "stream",
          "name": "stdout",
          "text": [
            "Regular function: 25\n",
            "Lambda function: 25\n"
          ]
        }
      ]
    },
    {
      "cell_type": "markdown",
      "source": [
        "#### Lambda with multiple arguments"
      ],
      "metadata": {
        "id": "bQbB8atsPULz"
      }
    },
    {
      "cell_type": "code",
      "source": [
        "multiply = lambda x, y: x * y\n",
        "print(f\"Multiply: {multiply(3, 4)}\")"
      ],
      "metadata": {
        "colab": {
          "base_uri": "https://localhost:8080/"
        },
        "id": "BPoQZcFePWAI",
        "outputId": "91ff6711-0d8d-4dcc-d50f-e00ab70c94d3"
      },
      "execution_count": null,
      "outputs": [
        {
          "output_type": "stream",
          "name": "stdout",
          "text": [
            "Multiply: 12\n"
          ]
        }
      ]
    },
    {
      "cell_type": "markdown",
      "source": [
        "#### Lambda with built-in functions"
      ],
      "metadata": {
        "id": "0oWSvr95Pbat"
      }
    },
    {
      "cell_type": "code",
      "source": [
        "numbers = [1, 2, 3, 4, 5]\n",
        "squared = list(map(lambda x: x**2, numbers))\n",
        "print(f\"Squared numbers: {squared}\")"
      ],
      "metadata": {
        "colab": {
          "base_uri": "https://localhost:8080/"
        },
        "id": "hDky0zxAPdlR",
        "outputId": "3a38f06d-dfc7-4079-e972-dd2c5707397d"
      },
      "execution_count": null,
      "outputs": [
        {
          "output_type": "stream",
          "name": "stdout",
          "text": [
            "Squared numbers: [1, 4, 9, 16, 25]\n"
          ]
        }
      ]
    },
    {
      "cell_type": "markdown",
      "source": [
        "#### Filtering with lambda"
      ],
      "metadata": {
        "id": "Dt01i4GEPg9k"
      }
    },
    {
      "cell_type": "code",
      "source": [
        "ages = [16, 21, 35, 12, 45, 18, 67]\n",
        "adults = list(filter(lambda age: age >= 18, ages))\n",
        "print(f\"Adult ages: {adults}\")"
      ],
      "metadata": {
        "colab": {
          "base_uri": "https://localhost:8080/"
        },
        "id": "DmYZdHH1Pisi",
        "outputId": "0593d416-d544-40c6-9c73-3ae5f2c5f45a"
      },
      "execution_count": null,
      "outputs": [
        {
          "output_type": "stream",
          "name": "stdout",
          "text": [
            "Adult ages: [21, 35, 45, 18, 67]\n"
          ]
        }
      ]
    },
    {
      "cell_type": "markdown",
      "source": [
        "#### Sorting with lambda"
      ],
      "metadata": {
        "id": "V0m86LlBPmiD"
      }
    },
    {
      "cell_type": "code",
      "source": [
        "people = [\n",
        "  {\"name\": \"Alice\", \"age\": 30},\n",
        "  {\"name\": \"Bob\", \"age\": 25},\n",
        "  {\"name\": \"Charlie\", \"age\": 35}\n",
        "]\n",
        "sorted_people = sorted(\n",
        "    people,\n",
        "    key=lambda person: person[\"age\"])\n",
        "print(\"People sorted by age:\")\n",
        "\n",
        "for person in sorted_people:\n",
        "  print(f\" {person['name']}: {person['age']}\")\n"
      ],
      "metadata": {
        "colab": {
          "base_uri": "https://localhost:8080/"
        },
        "id": "C3DtkxtAPpMV",
        "outputId": "7aec124b-bb5f-4278-94d5-336624f8391b"
      },
      "execution_count": null,
      "outputs": [
        {
          "output_type": "stream",
          "name": "stdout",
          "text": [
            "People sorted by age:\n",
            " Bob: 25\n",
            " Alice: 30\n",
            " Charlie: 35\n"
          ]
        }
      ]
    },
    {
      "cell_type": "markdown",
      "source": [
        "### Hands-on Exercise\n",
        "Exercise 3: Library Management System\n",
        "\n"
      ],
      "metadata": {
        "id": "GX_SY_-0Tjb2"
      }
    },
    {
      "cell_type": "code",
      "source": [
        "def create_library_system():\n",
        "  \"\"\"\n",
        "  Create a simple library management system\n",
        "  \"\"\"\n",
        "  books = []\n",
        "\n",
        "  def add_book(title, author, isbn, available=True):\n",
        "    book = {\n",
        "    \"title\": title,\n",
        "    \"author\": author,\n",
        "    \"isbn\": isbn,\n",
        "    \"available\": available\n",
        "    }\n",
        "    books.append(book)\n",
        "    print(f\"Added: {title} by {author}\")\n",
        "\n",
        "  def find_book(title):\n",
        "    for book in books:\n",
        "      if book[\"title\"].lower() == title.lower():\n",
        "        return book\n",
        "    return None\n",
        "\n",
        "  def checkout_book(title):\n",
        "    book = find_book(title)\n",
        "    if book and book[\"available\"]:\n",
        "      book[\"available\"] = False\n",
        "      print(f\"Checked out: {title}\")\n",
        "      return True\n",
        "    else:\n",
        "      print(f\"Book not available: {title}\")\n",
        "      return False\n",
        "\n",
        "  def return_book(title):\n",
        "    book = find_book(title)\n",
        "    if book:\n",
        "      book[\"available\"] = True\n",
        "      print(f\"Returned: {title}\")\n",
        "      return True\n",
        "    else:\n",
        "      print(f\"Book not found: {title}\")\n",
        "      return False\n",
        "\n",
        "  def list_available_books():\n",
        "    available = [book for book in books if book[\"available\"]]\n",
        "    print(\"Available books:\")\n",
        "    for book in available:\n",
        "      print(f\" - {book['title']} by {book['author']}\")\n",
        "\n",
        "  return add_book, find_book, checkout_book, return_book, list_available_books"
      ],
      "metadata": {
        "id": "lT3IKzaBP860"
      },
      "execution_count": null,
      "outputs": []
    },
    {
      "cell_type": "markdown",
      "source": [
        "#### Test the library system"
      ],
      "metadata": {
        "id": "Ueezcfg4QCXT"
      }
    },
    {
      "cell_type": "code",
      "source": [
        "\n",
        "add_book, find_book, checkout_book, return_book, list_available = create_library_system()\n",
        "\n",
        "# Add some books\n",
        "add_book(\"The Python Guide\", \"John Doe\", \"123-456-789\")\n",
        "add_book(\"Web Development Basics\", \"Jane Smith\", \"987-654-321\")\n",
        "add_book(\"Database Design\", \"Bob Johnson\", \"555-123-456\")\n",
        "\n",
        "# Test operations\n",
        "print(\"\\n--- Library Operations ---\")\n",
        "list_available()\n",
        "print()\n",
        "\n",
        "checkout_book(\"The Python Guide\")\n",
        "list_available()\n",
        "print()\n",
        "\n",
        "return_book(\"The Python Guide\")\n",
        "list_available()\n",
        "\n"
      ],
      "metadata": {
        "colab": {
          "base_uri": "https://localhost:8080/"
        },
        "id": "F1k5BPqzQAgS",
        "outputId": "0a562abd-b222-435a-a7c3-f0174435ea6b"
      },
      "execution_count": null,
      "outputs": [
        {
          "output_type": "stream",
          "name": "stdout",
          "text": [
            "Added: The Python Guide by John Doe\n",
            "Added: Web Development Basics by Jane Smith\n",
            "Added: Database Design by Bob Johnson\n",
            "\n",
            "--- Library Operations ---\n",
            "Available books:\n",
            " - The Python Guide by John Doe\n",
            " - Web Development Basics by Jane Smith\n",
            " - Database Design by Bob Johnson\n",
            "\n",
            "Checked out: The Python Guide\n",
            "Available books:\n",
            " - Web Development Basics by Jane Smith\n",
            " - Database Design by Bob Johnson\n",
            "\n",
            "Returned: The Python Guide\n",
            "Available books:\n",
            " - The Python Guide by John Doe\n",
            " - Web Development Basics by Jane Smith\n",
            " - Database Design by Bob Johnson\n"
          ]
        }
      ]
    },
    {
      "cell_type": "markdown",
      "source": [
        "## Introduction to Machine Learning\n",
        "## What is Machine Learning?\n",
        "Machine Learning (ML) is a subset of Artificial Intelligence (AI) that focuses on building systems that can learn from\n",
        "and make decisions based on data.\n",
        "### Traditional Programming vs. Machine Learning:\n",
        "- **Traditional Programming:** Input + Rules -> Output\n",
        "- **Machine Learning:** Input + Output -> Algorithm learns rules\n",
        "## Types of Machine Learning\n",
        "1. **Supervised Learning:**\n",
        "- Learn from labeled data (input and known output)\n",
        "- Examples: Spam detection, House price prediction\n",
        "2. **Unsupervised Learning:**\n",
        "- Learn from unlabeled data (no known outputs)\n",
        "- Examples: Customer segmentation, Topic modeling\n",
        "3. **Reinforcement Learning (Intro only):**\n",
        "- Learn by interacting with an environment and receiving feedback\n",
        "- Examples: Game AI, Robotics\n",
        "## Real-World Applications of ML\n",
        "- **Healthcare:** Disease prediction, medical image analysis\n",
        "- **Finance:** Fraud detection, stock prediction\n",
        "- **Retail:** Recommendation engines, customer analytics\n",
        "- **Transportation:** Route optimization, self-driving cars\n",
        "- **Agriculture:** Crop disease detection, yield prediction\n",
        "## Machine Learning Workflow\n",
        "1. **Problem Definition**\n",
        "2. **Data Collection**\n",
        "3. **Data Preprocessing**\n",
        "4. **Model Selection and Training**\n",
        "5. **Evaluation and Tuning**\n",
        "6. **Deployment and Monitoring**\n",
        "## Popular ML Algorithms (Names only for now)\n",
        "- Linear Regression\n",
        "- Logistic Regression\n",
        "- Decision Trees\n",
        "- K-Nearest Neighbors (KNN)\n",
        "- Support Vector Machines (SVM)\n",
        "- k-Means Clustering\n",
        "## Tools Commonly Used in ML\n",
        "- **Languages:** Python (dominant), R\n",
        "- **Libraries:** scikit-learn, NumPy, Pandas, Matplotlib, Seaborn\n",
        "- **Platforms:** Jupyter Notebooks, Google Colab, PyCharm\n"
      ],
      "metadata": {
        "id": "9KewCR6_TrIJ"
      }
    },
    {
      "cell_type": "code",
      "source": [],
      "metadata": {
        "id": "JbdnfsFq1V69"
      },
      "execution_count": null,
      "outputs": []
    }
  ]
}